{
  "cells": [
    {
      "metadata": {
        "_uuid": "8f2839f25d086af736a60e9eeb907d3b93b6e0e5",
        "_cell_guid": "b1076dfc-b9ad-4769-8c92-a6c4dae69d19",
        "trusted": true
      },
      "cell_type": "code",
      "source": "import numpy as np\nimport pandas as pd\nimport seaborn as sns\nimport matplotlib.pyplot as plt\nfrom fancyimpute import KNN, NuclearNormMinimization, SoftImpute, IterativeImputer, BiScaler\nfrom sklearn.ensemble import RandomForestClassifier\nfrom sklearn.metrics import accuracy_score\nfrom sklearn.pipeline import Pipeline\nfrom sklearn.feature_selection import SelectFromModel\nfrom sklearn.svm import LinearSVC",
      "execution_count": 1,
      "outputs": [
        {
          "output_type": "stream",
          "text": "Using TensorFlow backend.\n",
          "name": "stderr"
        }
      ]
    },
    {
      "metadata": {
        "trusted": true,
        "_uuid": "e15e890f728e76d71b1790f3fd0457301a884a55"
      },
      "cell_type": "code",
      "source": "def sex_to_binary(x):\n    if x == \"male\":\n        x = 0\n    elif x == \"female\":\n        x = 1\n    else:\n        x = 2\n    return x\n\ndef emb_to_int(x):\n    if x == \"S\":\n        x = 0\n    elif x == \"C\":\n        x = 1\n    elif  x == \"Q\":\n        x = 2\n    return x\n\ndef lastname(x):\n    lastname = x.split(\",\")[0]\n    return lastname\n\ndef famsize(data):\n    famsize = []\n    for i in data['lastname']:\n        famsize.append(len(data[data['lastname'] == i]))\n    return famsize\n\ndef zonecabin(x):\n    cabin = str(x)[0]\n    if cabin == 'A':\n        zonecabin = 7\n    elif cabin == 'B':\n        zonecabin = 6\n    elif cabin == 'C':\n        zonecabin = 5\n    elif cabin == 'D':\n        zonecabin = 4\n    elif cabin == 'E':\n        zonecabin = 3\n    elif cabin == 'F':\n        zonecabin = 2\n    elif cabin == 'G':\n        zonecabin = 1\n    elif cabin == 'T':\n        zonecabin = 0\n    else:\n        zonecabin = float('nan')\n    return zonecabin",
      "execution_count": 2,
      "outputs": []
    },
    {
      "metadata": {
        "_cell_guid": "79c7e3d0-c299-4dcb-8224-4455121ee9b0",
        "_uuid": "d629ff2d2480ee46fbb7e2d37f6b5fab8052498a",
        "trusted": true,
        "scrolled": true
      },
      "cell_type": "code",
      "source": "train_data = pd.read_csv(\"../input/train.csv\")\ntrain_data[\"Sex\"] = train_data.Sex.apply(sex_to_binary)\ntrain_data[\"Embarked\"] = train_data.Embarked.apply(emb_to_int)\ntrain_data['lastname'] = train_data.Name.apply(lastname)\ntrain_data['famsize'] = famsize(train_data)\ntrain_data['Zonecabine'] = train_data.Cabin.apply(zonecabin)\ntrain_data[\"Age\"] = train_data[\"Age\"].fillna(train_data[\"Age\"].median())\ntrain_data[\"Embarked\"] = train_data[\"Embarked\"].fillna(train_data[\"Embarked\"].median())\nx_train = train_data[['Pclass','Fare','Parch','SibSp','Age','famsize','Sex','Zonecabine']]\ny_train = train_data[['Survived']]\nx_train_complete = IterativeImputer().fit_transform(x_train)\nx_train_complete[:,-1] = np.round(x_train_complete[:,-1])\nx_train['Zonecabine'] = x_train_complete[:,-1]\nx_train['Survived'] = train_data[['Survived']]",
      "execution_count": 3,
      "outputs": [
        {
          "output_type": "stream",
          "text": "/opt/conda/lib/python3.6/site-packages/ipykernel_launcher.py:13: SettingWithCopyWarning: \nA value is trying to be set on a copy of a slice from a DataFrame.\nTry using .loc[row_indexer,col_indexer] = value instead\n\nSee the caveats in the documentation: http://pandas.pydata.org/pandas-docs/stable/indexing.html#indexing-view-versus-copy\n  del sys.path[0]\n/opt/conda/lib/python3.6/site-packages/ipykernel_launcher.py:14: SettingWithCopyWarning: \nA value is trying to be set on a copy of a slice from a DataFrame.\nTry using .loc[row_indexer,col_indexer] = value instead\n\nSee the caveats in the documentation: http://pandas.pydata.org/pandas-docs/stable/indexing.html#indexing-view-versus-copy\n  \n",
          "name": "stderr"
        }
      ]
    },
    {
      "metadata": {
        "trusted": true,
        "_uuid": "ac8e2570188208acb9294819227c73bdddecd2a9",
        "scrolled": true
      },
      "cell_type": "code",
      "source": "figure = plt.figure(figsize=(9,8))\ncorr = x_train.corr()\nsns.heatmap(corr, xticklabels=corr.columns, yticklabels=corr.columns)\ncorr\ndel(x_train['Survived'])",
      "execution_count": 4,
      "outputs": [
        {
          "output_type": "display_data",
          "data": {
            "text/plain": "<Figure size 648x576 with 2 Axes>",
            "image/png": "[encoded data removed]"
          },
          "metadata": {}
        }
      ]
    },
    {
      "metadata": {
        "trusted": true,
        "_uuid": "79de4541c7df17682a53024c971ff21015146098"
      },
      "cell_type": "code",
      "source": "from sklearn import model_selection\nfrom sklearn.feature_selection import RFECV\nfrom sklearn import feature_selection\n\nclf = RandomForestClassifier(n_estimators=1000, max_depth=10,random_state=0,max_features='auto',min_samples_split=5)\nclf.fit(x_train[:int((0.8*len(x_train)))], y_train[:int((0.8*len(x_train)))].values.ravel())\nprint(clf.feature_importances_)\npred = clf.predict(x_train[int((0.8*len(x_train))):])\naccuracy_score(pred,y_train[int((0.8*len(x_train))):])",
      "execution_count": 5,
      "outputs": [
        {
          "output_type": "stream",
          "text": "[0.07262801 0.20499107 0.03366989 0.03829683 0.16133103 0.05751907\n 0.34233162 0.08923248]\n",
          "name": "stdout"
        },
        {
          "output_type": "execute_result",
          "execution_count": 5,
          "data": {
            "text/plain": "0.8491620111731844"
          },
          "metadata": {}
        }
      ]
    },
    {
      "metadata": {
        "trusted": true,
        "_uuid": "7a7672a710df719c6957cc2cce942bc27c694766"
      },
      "cell_type": "code",
      "source": "#tune hyper-parameters: http://scikit-learn.org/stable/modules/generated/sklearn.tree.DecisionTreeClassifier.html#sklearn.tree.DecisionTreeClassifier\nparam_grid = {'n_estimators': [1000],\n              'criterion': ['gini', 'entropy'],  #scoring methodology; two supported formulas for calculating information gain - default is gini\n              #'splitter': ['best', 'random'], #splitting methodology; two supported strategies - default is best\n              'max_depth': [4,6,8,10,None], #max depth tree can grow; default is none\n              'min_samples_split': [2,5,10,.03,.05], #minimum subset size BEFORE new split (fraction is % of total); default is 2\n              #'min_samples_leaf': [1,5,10,.03,.05], #minimum subset size AFTER new split split (fraction is % of total); default is 1\n              'max_features': [None, 'auto'], #max features to consider when performing split; default none or all\n              'random_state': [0] #seed or control random number generator: https://www.quora.com/What-is-seed-in-random-number-generation\n             }\n\ntune_model = model_selection.GridSearchCV(RandomForestClassifier(), param_grid=param_grid, scoring = 'roc_auc', cv = 3)\ntune_model.fit(x_train, y_train.values.ravel())\n\nprint(' RandomF Parameters: ', tune_model.best_params_)\nprint(\" RandomF Training w/bin score mean: {:.2f}\". format(tune_model.cv_results_['mean_train_score'][tune_model.best_index_]*100)) \nprint(\" RandomF Test w/bin score mean: {:.2f}\". format(tune_model.cv_results_['mean_test_score'][tune_model.best_index_]*100))\nprint(\" RandomF Test w/bin score 3*std: +/- {:.2f}\". format(tune_model.cv_results_['std_test_score'][tune_model.best_index_]*100*3))\nprint('-'*10)",
      "execution_count": null,
      "outputs": []
    },
    {
      "metadata": {
        "trusted": true,
        "_uuid": "14502f14a11a59e0e19c3c92ed46efb4702eca79"
      },
      "cell_type": "code",
      "source": "RF_rfe = feature_selection.RFECV(clf, step = 1, scoring = 'accuracy', cv = 3)\nRF_rfe.fit(x_train, y_train.values.ravel())\nX_RF_rfe = x_train.columns.values[RF_rfe.get_support()]\nrfe_results = model_selection.cross_validate(clf, x_train[X_RF_rfe], y_train.values.ravel(), cv  = 3)\nprint('AFTER DT RFE Training Shape New: ', x_train[X_RF_rfe].shape) \nprint('AFTER DT RFE Training Columns New: ', X_RF_rfe)\nprint(\"AFTER DT RFE Training w/bin score mean: {:.2f}\". format(rfe_results['train_score'].mean()*100)) \nprint(\"AFTER DT RFE Test w/bin score mean: {:.2f}\". format(rfe_results['test_score'].mean()*100))\nprint(\"AFTER DT RFE Test w/bin score 3*std: +/- {:.2f}\". format(rfe_results['test_score'].std()*100*3))\nprint('-'*10)",
      "execution_count": null,
      "outputs": []
    },
    {
      "metadata": {
        "trusted": true,
        "_uuid": "9e5a536c3cbbe21c8e520ff0b9d3d409d0d31123"
      },
      "cell_type": "code",
      "source": "",
      "execution_count": null,
      "outputs": []
    },
    {
      "metadata": {
        "trusted": true,
        "_uuid": "483f494bf7c8393f0c1b2883e131765e7c6044a8"
      },
      "cell_type": "code",
      "source": "",
      "execution_count": null,
      "outputs": []
    },
    {
      "metadata": {
        "trusted": true,
        "_uuid": "0bb3ae7de5b2ec03606fbf34c1322dffc4dc85c7"
      },
      "cell_type": "code",
      "source": "",
      "execution_count": null,
      "outputs": []
    }
  ],
  "metadata": {
    "kernelspec": {
      "display_name": "Python 3",
      "language": "python",
      "name": "python3"
    },
    "language_info": {
      "name": "python",
      "version": "3.6.6",
      "mimetype": "text/x-python",
      "codemirror_mode": {
        "name": "ipython",
        "version": 3
      },
      "pygments_lexer": "ipython3",
      "nbconvert_exporter": "python",
      "file_extension": ".py"
    }
  },
  "nbformat": 4,
  "nbformat_minor": 1
}